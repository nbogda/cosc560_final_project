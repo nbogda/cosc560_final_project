{
 "cells": [
  {
   "cell_type": "code",
   "execution_count": 1,
   "metadata": {},
   "outputs": [],
   "source": [
    "import matplotlib.pyplot as plt\n",
    "import numpy as np\n",
    "import pandas as pd\n",
    "import scipy.stats as stats\n",
    "import os\n",
    "import random as rand\n",
    "import sys\n",
    "import collections\n",
    "from sklearn.model_selection import cross_val_score\n",
    "from sklearn.preprocessing import OneHotEncoder\n",
    "from sklearn.tree import DecisionTreeClassifier\n",
    "from sklearn.svm import SVC\n",
    "from sklearn.neural_network import MLPRegressor\n",
    "from sklearn.neighbors import KNeighborsRegressor\n",
    "from sklearn.model_selection import train_test_split\n",
    "from sklearn.metrics import mean_squared_log_error\n",
    "from sklearn.multioutput import MultiOutputRegressor\n",
    "from sklearn.linear_model import LinearRegression\n",
    "from sklearn.ensemble import RandomForestRegressor\n",
    "#from sklearn.externals import joblib\n",
    "import joblib\n",
    "import re\n",
    "import csv\n",
    "import datetime"
   ]
  },
  {
   "cell_type": "code",
   "execution_count": 26,
   "metadata": {},
   "outputs": [],
   "source": [
    "def readInCSV(trainFile,testFile):\n",
    "    train = pd.read_csv(trainFile)\n",
    "    col_names_tr = list(train.columns)\n",
    "    row_tr, columns_tr = train.shape\n",
    "    \n",
    "    test = pd.read_csv(testFile)\n",
    "    col_names_test = list(test.columns)\n",
    "    row_test, columns_test = test.shape\n",
    " \n",
    "    #split data into \"labels\" and predictors (The actual trainging set was split 70-30 since the testing set has no outcomes)\n",
    "    X_tr = [] #predictors training\n",
    "    y_tr = [] #predictions training\n",
    "    X_test = [] #features testing\n",
    "    y_test = [] #predicitions testing\n",
    "    \n",
    "    for index, row in train.iterrows():\n",
    "        y_tr.append(row.ix[-1][0:-1])\n",
    "        X_tr.append(list(row.ix[0:-1]))\n",
    "        \n",
    "    for index, row in test.iterrows():\n",
    "        y_test.append(row.ix[-1][0:-1])\n",
    "        X_test.append(list(row.ix[0:-1]))\n",
    "        \n",
    "    enc = OneHotEncoder()\n",
    "    X_tr = enc.fit_transform(X_tr).toarray()\n",
    "        \n",
    "    return X_tr,y_tr,X_test,y_test"
   ]
  },
  {
   "cell_type": "code",
   "execution_count": 27,
   "metadata": {},
   "outputs": [
    {
     "name": "stderr",
     "output_type": "stream",
     "text": [
      "/Users/Charlemagne/anaconda3/lib/python3.7/site-packages/ipykernel_launcher.py:17: FutureWarning: \n",
      ".ix is deprecated. Please use\n",
      ".loc for label based indexing or\n",
      ".iloc for positional indexing\n",
      "\n",
      "See the documentation here:\n",
      "http://pandas.pydata.org/pandas-docs/stable/user_guide/indexing.html#ix-indexer-is-deprecated\n",
      "/Users/Charlemagne/anaconda3/lib/python3.7/site-packages/ipykernel_launcher.py:18: FutureWarning: \n",
      ".ix is deprecated. Please use\n",
      ".loc for label based indexing or\n",
      ".iloc for positional indexing\n",
      "\n",
      "See the documentation here:\n",
      "http://pandas.pydata.org/pandas-docs/stable/user_guide/indexing.html#ix-indexer-is-deprecated\n",
      "/Users/Charlemagne/anaconda3/lib/python3.7/site-packages/ipykernel_launcher.py:21: FutureWarning: \n",
      ".ix is deprecated. Please use\n",
      ".loc for label based indexing or\n",
      ".iloc for positional indexing\n",
      "\n",
      "See the documentation here:\n",
      "http://pandas.pydata.org/pandas-docs/stable/user_guide/indexing.html#ix-indexer-is-deprecated\n",
      "/Users/Charlemagne/anaconda3/lib/python3.7/site-packages/ipykernel_launcher.py:22: FutureWarning: \n",
      ".ix is deprecated. Please use\n",
      ".loc for label based indexing or\n",
      ".iloc for positional indexing\n",
      "\n",
      "See the documentation here:\n",
      "http://pandas.pydata.org/pandas-docs/stable/user_guide/indexing.html#ix-indexer-is-deprecated\n"
     ]
    }
   ],
   "source": [
    "#X_tr_pca,y_tr_pca,X_test_pca,y_test_pca = readInCSV(\"../data/NAN_to_0/PCA_split_data_train.csv\",\"../data/NAN_to_0/PCA_split_data_test.csv\")\n",
    "X_tr_orig,y_tr_orig,X_test_orig,y_test_orig = readInCSV(\"../data/train_tmp.csv\",\"../data/test_tmp.csv\")\n"
   ]
  },
  {
   "cell_type": "code",
   "execution_count": 28,
   "metadata": {},
   "outputs": [
    {
     "name": "stdout",
     "output_type": "stream",
     "text": [
      "[1. 0. 0. ... 0. 1. 1.]\n",
      "normal\n"
     ]
    }
   ],
   "source": [
    "print(X_tr_orig[0])\n",
    "print(y_tr_orig[0])"
   ]
  },
  {
   "cell_type": "markdown",
   "metadata": {},
   "source": [
    "## Decision Tree (PCA Data)\n"
   ]
  },
  {
   "cell_type": "code",
   "execution_count": 6,
   "metadata": {},
   "outputs": [
    {
     "name": "stdout",
     "output_type": "stream",
     "text": [
      "[1.88124979 1.85973342 1.75981817 1.62463089 2.30205666 2.82440022\n",
      " 2.98257311 3.00946801 3.29549524 3.40252322 3.47189648 3.6014681 ]\n",
      "2.7602162787727558\n"
     ]
    }
   ],
   "source": [
    "classifier = DecisionTreeClassifier(random_state=0)\n",
    "classifier.fit(X_tr_pca,y_tr_pca)\n",
    "y_pred = regressor.predict(X_test_pca)\n",
    "print(np.sqrt(mean_squared_log_error(y_test_pca, y_pred,multioutput='raw_values')))\n",
    "print(np.sqrt(mean_squared_log_error(y_test_pca, y_pred)))"
   ]
  },
  {
   "cell_type": "markdown",
   "metadata": {},
   "source": [
    "## Decision Tree (Original Data)"
   ]
  },
  {
   "cell_type": "code",
   "execution_count": null,
   "metadata": {},
   "outputs": [],
   "source": [
    "classifier = DecisionTreeClassifier(random_state=0)\n",
    "classifier.fit(X_tr_orig,y_tr_orig)\n",
    "y_pred = classifier.predict(X_test_orig)\n",
    "#print(np.sqrt(mean_squared_log_error(y_test_orig, y_pred,multioutput='raw_values')))\n",
    "#print(np.sqrt(mean_squared_log_error(y_test_orig, y_pred)))"
   ]
  },
  {
   "cell_type": "markdown",
   "metadata": {},
   "source": [
    "------------------------"
   ]
  },
  {
   "cell_type": "markdown",
   "metadata": {},
   "source": [
    "## Random Forest (PCA Data)"
   ]
  },
  {
   "cell_type": "code",
   "execution_count": 8,
   "metadata": {},
   "outputs": [
    {
     "name": "stdout",
     "output_type": "stream",
     "text": [
      "[1.58148569 1.68412589 1.5351987  1.43564457 1.74710074 1.96884323\n",
      " 2.07025245 2.20303742 2.3352524  2.63922237 2.70155399 2.76537859]\n",
      "2.1053092064943013\n"
     ]
    }
   ],
   "source": [
    "RFregr = RandomForestRegressor(max_depth=10, random_state=0,n_estimators=1000)\n",
    "RFregr.fit(X_tr_pca,y_tr_pca)\n",
    "y_pred = RFregr.predict(X_test_pca)\n",
    "print(np.sqrt(mean_squared_log_error(y_test_pca, y_pred,multioutput='raw_values')))\n",
    "print(np.sqrt(mean_squared_log_error(y_test_pca, y_pred)))"
   ]
  },
  {
   "cell_type": "markdown",
   "metadata": {},
   "source": [
    "## Random Forest (Original Data)"
   ]
  },
  {
   "cell_type": "code",
   "execution_count": 9,
   "metadata": {},
   "outputs": [
    {
     "name": "stdout",
     "output_type": "stream",
     "text": [
      "[0.80089902 1.11179098 1.13401356 1.07968089 1.4540805  1.80041908\n",
      " 1.95577837 2.11641953 2.25826646 2.59543715 2.65212392 2.75718253]\n",
      "1.9248647957603784\n"
     ]
    }
   ],
   "source": [
    "RFregr = RandomForestRegressor(max_depth=10, random_state=0,n_estimators=1000)\n",
    "RFregr.fit(X_tr_orig,y_tr_orig)\n",
    "y_pred = RFregr.predict(X_test_orig)\n",
    "print(np.sqrt(mean_squared_log_error(y_test_orig, y_pred,multioutput='raw_values')))\n",
    "print(np.sqrt(mean_squared_log_error(y_test_orig, y_pred)))"
   ]
  },
  {
   "cell_type": "markdown",
   "metadata": {},
   "source": [
    "-----------"
   ]
  },
  {
   "cell_type": "markdown",
   "metadata": {},
   "source": [
    "## SVM/SVC(PCA Data)"
   ]
  },
  {
   "cell_type": "code",
   "execution_count": 11,
   "metadata": {},
   "outputs": [
    {
     "name": "stdout",
     "output_type": "stream",
     "text": [
      "[1.34902169 1.41216253 1.37616898 1.31884526 1.70750222 1.95788325\n",
      " 2.05074088 2.10753728 2.23462177 2.5031306  2.59302153 2.65897147]\n",
      "1.9978418734749357\n"
     ]
    }
   ],
   "source": [
    "clf = SVR(kernel=\"rbf\",gamma='auto', C=1.0, epsilon=0.2)\n",
    "multi_clf = MultiOutputRegressor(clf)\n",
    "multi_clf.fit(X_tr_pca,y_tr_pca)\n",
    "y_pred = multi_clf.predict(X_test_pca)\n",
    "print(np.sqrt(mean_squared_log_error(y_test_pca, y_pred,multioutput='raw_values')))\n",
    "print(np.sqrt(mean_squared_log_error(y_test_pca, y_pred)))"
   ]
  },
  {
   "cell_type": "markdown",
   "metadata": {},
   "source": [
    "## SVM/SVC (Original Data)"
   ]
  },
  {
   "cell_type": "code",
   "execution_count": 32,
   "metadata": {},
   "outputs": [
    {
     "ename": "ValueError",
     "evalue": "could not convert string to float: 'tcp'",
     "output_type": "error",
     "traceback": [
      "\u001b[0;31m---------------------------------------------------------------------------\u001b[0m",
      "\u001b[0;31mValueError\u001b[0m                                Traceback (most recent call last)",
      "\u001b[0;32m<ipython-input-32-1577eeb4129c>\u001b[0m in \u001b[0;36m<module>\u001b[0;34m\u001b[0m\n\u001b[1;32m      1\u001b[0m \u001b[0mclf\u001b[0m \u001b[0;34m=\u001b[0m \u001b[0mSVC\u001b[0m\u001b[0;34m(\u001b[0m\u001b[0mkernel\u001b[0m\u001b[0;34m=\u001b[0m\u001b[0;34m\"rbf\"\u001b[0m\u001b[0;34m,\u001b[0m\u001b[0mgamma\u001b[0m\u001b[0;34m=\u001b[0m\u001b[0;34m'auto'\u001b[0m\u001b[0;34m,\u001b[0m \u001b[0mC\u001b[0m\u001b[0;34m=\u001b[0m\u001b[0;36m1.0\u001b[0m\u001b[0;34m)\u001b[0m\u001b[0;34m\u001b[0m\u001b[0;34m\u001b[0m\u001b[0m\n\u001b[0;32m----> 2\u001b[0;31m \u001b[0mclf\u001b[0m\u001b[0;34m.\u001b[0m\u001b[0mfit\u001b[0m\u001b[0;34m(\u001b[0m\u001b[0mX_tr_orig\u001b[0m\u001b[0;34m,\u001b[0m\u001b[0my_tr_orig\u001b[0m\u001b[0;34m)\u001b[0m\u001b[0;34m\u001b[0m\u001b[0;34m\u001b[0m\u001b[0m\n\u001b[0m\u001b[1;32m      3\u001b[0m \u001b[0my_pred\u001b[0m \u001b[0;34m=\u001b[0m \u001b[0mclf\u001b[0m\u001b[0;34m.\u001b[0m\u001b[0mpredict\u001b[0m\u001b[0;34m(\u001b[0m\u001b[0mX_test_orig\u001b[0m\u001b[0;34m)\u001b[0m\u001b[0;34m\u001b[0m\u001b[0;34m\u001b[0m\u001b[0m\n\u001b[1;32m      4\u001b[0m \u001b[0;31m#print(np.sqrt(mean_squared_log_error(y_test_orig, y_pred,multioutput='raw_values')))\u001b[0m\u001b[0;34m\u001b[0m\u001b[0;34m\u001b[0m\u001b[0;34m\u001b[0m\u001b[0m\n\u001b[1;32m      5\u001b[0m \u001b[0;31m#print(np.sqrt(mean_squared_log_error(y_test_orig, y_pred)))\u001b[0m\u001b[0;34m\u001b[0m\u001b[0;34m\u001b[0m\u001b[0;34m\u001b[0m\u001b[0m\n",
      "\u001b[0;32m~/anaconda3/lib/python3.7/site-packages/sklearn/svm/base.py\u001b[0m in \u001b[0;36mfit\u001b[0;34m(self, X, y, sample_weight)\u001b[0m\n\u001b[1;32m    144\u001b[0m         X, y = check_X_y(X, y, dtype=np.float64,\n\u001b[1;32m    145\u001b[0m                          \u001b[0morder\u001b[0m\u001b[0;34m=\u001b[0m\u001b[0;34m'C'\u001b[0m\u001b[0;34m,\u001b[0m \u001b[0maccept_sparse\u001b[0m\u001b[0;34m=\u001b[0m\u001b[0;34m'csr'\u001b[0m\u001b[0;34m,\u001b[0m\u001b[0;34m\u001b[0m\u001b[0;34m\u001b[0m\u001b[0m\n\u001b[0;32m--> 146\u001b[0;31m                          accept_large_sparse=False)\n\u001b[0m\u001b[1;32m    147\u001b[0m         \u001b[0my\u001b[0m \u001b[0;34m=\u001b[0m \u001b[0mself\u001b[0m\u001b[0;34m.\u001b[0m\u001b[0m_validate_targets\u001b[0m\u001b[0;34m(\u001b[0m\u001b[0my\u001b[0m\u001b[0;34m)\u001b[0m\u001b[0;34m\u001b[0m\u001b[0;34m\u001b[0m\u001b[0m\n\u001b[1;32m    148\u001b[0m \u001b[0;34m\u001b[0m\u001b[0m\n",
      "\u001b[0;32m~/anaconda3/lib/python3.7/site-packages/sklearn/utils/validation.py\u001b[0m in \u001b[0;36mcheck_X_y\u001b[0;34m(X, y, accept_sparse, accept_large_sparse, dtype, order, copy, force_all_finite, ensure_2d, allow_nd, multi_output, ensure_min_samples, ensure_min_features, y_numeric, warn_on_dtype, estimator)\u001b[0m\n\u001b[1;32m    717\u001b[0m                     \u001b[0mensure_min_features\u001b[0m\u001b[0;34m=\u001b[0m\u001b[0mensure_min_features\u001b[0m\u001b[0;34m,\u001b[0m\u001b[0;34m\u001b[0m\u001b[0;34m\u001b[0m\u001b[0m\n\u001b[1;32m    718\u001b[0m                     \u001b[0mwarn_on_dtype\u001b[0m\u001b[0;34m=\u001b[0m\u001b[0mwarn_on_dtype\u001b[0m\u001b[0;34m,\u001b[0m\u001b[0;34m\u001b[0m\u001b[0;34m\u001b[0m\u001b[0m\n\u001b[0;32m--> 719\u001b[0;31m                     estimator=estimator)\n\u001b[0m\u001b[1;32m    720\u001b[0m     \u001b[0;32mif\u001b[0m \u001b[0mmulti_output\u001b[0m\u001b[0;34m:\u001b[0m\u001b[0;34m\u001b[0m\u001b[0;34m\u001b[0m\u001b[0m\n\u001b[1;32m    721\u001b[0m         y = check_array(y, 'csr', force_all_finite=True, ensure_2d=False,\n",
      "\u001b[0;32m~/anaconda3/lib/python3.7/site-packages/sklearn/utils/validation.py\u001b[0m in \u001b[0;36mcheck_array\u001b[0;34m(array, accept_sparse, accept_large_sparse, dtype, order, copy, force_all_finite, ensure_2d, allow_nd, ensure_min_samples, ensure_min_features, warn_on_dtype, estimator)\u001b[0m\n\u001b[1;32m    494\u001b[0m             \u001b[0;32mtry\u001b[0m\u001b[0;34m:\u001b[0m\u001b[0;34m\u001b[0m\u001b[0;34m\u001b[0m\u001b[0m\n\u001b[1;32m    495\u001b[0m                 \u001b[0mwarnings\u001b[0m\u001b[0;34m.\u001b[0m\u001b[0msimplefilter\u001b[0m\u001b[0;34m(\u001b[0m\u001b[0;34m'error'\u001b[0m\u001b[0;34m,\u001b[0m \u001b[0mComplexWarning\u001b[0m\u001b[0;34m)\u001b[0m\u001b[0;34m\u001b[0m\u001b[0;34m\u001b[0m\u001b[0m\n\u001b[0;32m--> 496\u001b[0;31m                 \u001b[0marray\u001b[0m \u001b[0;34m=\u001b[0m \u001b[0mnp\u001b[0m\u001b[0;34m.\u001b[0m\u001b[0masarray\u001b[0m\u001b[0;34m(\u001b[0m\u001b[0marray\u001b[0m\u001b[0;34m,\u001b[0m \u001b[0mdtype\u001b[0m\u001b[0;34m=\u001b[0m\u001b[0mdtype\u001b[0m\u001b[0;34m,\u001b[0m \u001b[0morder\u001b[0m\u001b[0;34m=\u001b[0m\u001b[0morder\u001b[0m\u001b[0;34m)\u001b[0m\u001b[0;34m\u001b[0m\u001b[0;34m\u001b[0m\u001b[0m\n\u001b[0m\u001b[1;32m    497\u001b[0m             \u001b[0;32mexcept\u001b[0m \u001b[0mComplexWarning\u001b[0m\u001b[0;34m:\u001b[0m\u001b[0;34m\u001b[0m\u001b[0;34m\u001b[0m\u001b[0m\n\u001b[1;32m    498\u001b[0m                 raise ValueError(\"Complex data not supported\\n\"\n",
      "\u001b[0;32m~/anaconda3/lib/python3.7/site-packages/numpy/core/_asarray.py\u001b[0m in \u001b[0;36masarray\u001b[0;34m(a, dtype, order)\u001b[0m\n\u001b[1;32m     83\u001b[0m \u001b[0;34m\u001b[0m\u001b[0m\n\u001b[1;32m     84\u001b[0m     \"\"\"\n\u001b[0;32m---> 85\u001b[0;31m     \u001b[0;32mreturn\u001b[0m \u001b[0marray\u001b[0m\u001b[0;34m(\u001b[0m\u001b[0ma\u001b[0m\u001b[0;34m,\u001b[0m \u001b[0mdtype\u001b[0m\u001b[0;34m,\u001b[0m \u001b[0mcopy\u001b[0m\u001b[0;34m=\u001b[0m\u001b[0;32mFalse\u001b[0m\u001b[0;34m,\u001b[0m \u001b[0morder\u001b[0m\u001b[0;34m=\u001b[0m\u001b[0morder\u001b[0m\u001b[0;34m)\u001b[0m\u001b[0;34m\u001b[0m\u001b[0;34m\u001b[0m\u001b[0m\n\u001b[0m\u001b[1;32m     86\u001b[0m \u001b[0;34m\u001b[0m\u001b[0m\n\u001b[1;32m     87\u001b[0m \u001b[0;34m\u001b[0m\u001b[0m\n",
      "\u001b[0;31mValueError\u001b[0m: could not convert string to float: 'tcp'"
     ]
    }
   ],
   "source": [
    "clf = SVC(kernel=\"rbf\",gamma='auto', C=1.0)\n",
    "clf.fit(X_tr_orig,y_tr_orig)\n",
    "y_pred = clf.predict(X_test_orig)\n",
    "#print(np.sqrt(mean_squared_log_error(y_test_orig, y_pred,multioutput='raw_values')))\n",
    "#print(np.sqrt(mean_squared_log_error(y_test_orig, y_pred)))"
   ]
  },
  {
   "cell_type": "markdown",
   "metadata": {},
   "source": [
    "----------"
   ]
  },
  {
   "cell_type": "markdown",
   "metadata": {},
   "source": [
    "## MLP(NN) (PCA Data) -- Note: np.abs() needs to be used on prediction because it guesses negative values sometimes... oh well"
   ]
  },
  {
   "cell_type": "code",
   "execution_count": 13,
   "metadata": {},
   "outputs": [
    {
     "name": "stdout",
     "output_type": "stream",
     "text": [
      "[2.51696171 2.49133313 2.33613791 2.18833471 2.4951105  2.72695011\n",
      " 2.57913082 2.69008867 2.79087368 2.90215937 2.93512816 2.9726397 ]\n",
      "2.645776214369862\n"
     ]
    }
   ],
   "source": [
    "bpnn = MLPRegressor(max_iter = 50000) #Very basic BPNN/MLP\n",
    "bpnn.fit(X_tr_pca,y_tr_pca)\n",
    "y_pred = bpnn.predict(X_test_pca)\n",
    "print(np.sqrt(mean_squared_log_error(y_test_pca, np.abs(y_pred),multioutput='raw_values'))) #It's weird that it predicts negative vals.. oh well\n",
    "print(np.sqrt(mean_squared_log_error(y_test_pca, np.abs(y_pred))))"
   ]
  },
  {
   "cell_type": "markdown",
   "metadata": {},
   "source": [
    "## MLP(NN) (Original Data) -- Note: np.abs() needs to be used on prediction because it guesses negative values sometimes... oh well"
   ]
  },
  {
   "cell_type": "code",
   "execution_count": 14,
   "metadata": {},
   "outputs": [
    {
     "name": "stdout",
     "output_type": "stream",
     "text": [
      "[1.93821749 1.99352288 1.84463565 1.69125972 2.15414648 2.46334285\n",
      " 2.28586197 2.39381343 2.56685386 2.80352242 2.72980473 3.02815308]\n",
      "2.358102962169239\n"
     ]
    }
   ],
   "source": [
    "bpnn = MLPRegressor(max_iter = 50000) #Very basic BPNN/MLP\n",
    "bpnn.fit(X_tr_orig,y_tr_orig)\n",
    "y_pred = bpnn.predict(X_test_orig)\n",
    "print(np.sqrt(mean_squared_log_error(y_test_orig, np.abs(y_pred),multioutput='raw_values'))) #It's weird that it predicts negative vals.. oh well\n",
    "print(np.sqrt(mean_squared_log_error(y_test_orig, np.abs(y_pred))))"
   ]
  },
  {
   "cell_type": "markdown",
   "metadata": {},
   "source": [
    "-------"
   ]
  },
  {
   "cell_type": "markdown",
   "metadata": {},
   "source": [
    "## kNN (PCA Data)\n"
   ]
  },
  {
   "cell_type": "code",
   "execution_count": 15,
   "metadata": {},
   "outputs": [
    {
     "name": "stdout",
     "output_type": "stream",
     "text": [
      "[1.37359479 1.52616017 1.52944453 1.44291999 1.73108605 2.02886042\n",
      " 2.04111615 2.23787946 2.30771045 2.65521729 2.65426601 2.69909518]\n",
      "2.07425264644338\n"
     ]
    }
   ],
   "source": [
    "neigh = KNeighborsRegressor(n_neighbors=5)\n",
    "neigh.fit(X_tr_pca,y_tr_pca)\n",
    "y_pred = neigh.predict(X_test_pca)\n",
    "print(np.sqrt(mean_squared_log_error(y_test_pca, y_pred,multioutput='raw_values')))\n",
    "print(np.sqrt(mean_squared_log_error(y_test_pca, y_pred)))"
   ]
  },
  {
   "cell_type": "markdown",
   "metadata": {},
   "source": [
    "## kNN (Original Data)"
   ]
  },
  {
   "cell_type": "code",
   "execution_count": 16,
   "metadata": {},
   "outputs": [
    {
     "name": "stdout",
     "output_type": "stream",
     "text": [
      "[1.15601296 1.35008633 1.32809977 1.20840453 1.574566   1.89729981\n",
      " 2.00857386 2.15033911 2.28736233 2.63296066 2.69018617 2.78348657]\n",
      "2.0056156339976496\n"
     ]
    }
   ],
   "source": [
    "neigh = KNeighborsRegressor(n_neighbors=5)\n",
    "neigh.fit(X_tr_orig,y_tr_orig)\n",
    "y_pred = neigh.predict(X_test_orig)\n",
    "print(np.sqrt(mean_squared_log_error(y_test_orig, y_pred,multioutput='raw_values')))\n",
    "print(np.sqrt(mean_squared_log_error(y_test_orig, y_pred)))"
   ]
  },
  {
   "cell_type": "markdown",
   "metadata": {},
   "source": [
    "--------"
   ]
  }
 ],
 "metadata": {
  "kernelspec": {
   "display_name": "Python 3",
   "language": "python",
   "name": "python3"
  },
  "language_info": {
   "codemirror_mode": {
    "name": "ipython",
    "version": 3
   },
   "file_extension": ".py",
   "mimetype": "text/x-python",
   "name": "python",
   "nbconvert_exporter": "python",
   "pygments_lexer": "ipython3",
   "version": "3.7.5"
  }
 },
 "nbformat": 4,
 "nbformat_minor": 2
}
