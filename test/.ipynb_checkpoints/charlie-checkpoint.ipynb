{
 "cells": [
  {
   "cell_type": "code",
   "execution_count": 1,
   "metadata": {},
   "outputs": [
    {
     "name": "stderr",
     "output_type": "stream",
     "text": [
      "/Users/Charlemagne/Library/Python/3.7/lib/python/site-packages/sklearn/externals/joblib/__init__.py:15: FutureWarning: sklearn.externals.joblib is deprecated in 0.21 and will be removed in 0.23. Please import this functionality directly from joblib, which can be installed with: pip install joblib. If this warning is raised when loading pickled models, you may need to re-serialize those models with scikit-learn 0.21+.\n",
      "  warnings.warn(msg, category=FutureWarning)\n"
     ]
    }
   ],
   "source": [
    "import matplotlib.pyplot as plt\n",
    "import numpy as np\n",
    "import pandas as pd\n",
    "import scipy.stats as stats\n",
    "import os\n",
    "import random as rand\n",
    "import sys\n",
    "import collections\n",
    "from sklearn.model_selection import cross_val_score\n",
    "from sklearn.tree import DecisionTreeRegressor\n",
    "from sklearn.svm import SVR\n",
    "from sklearn.neural_network import MLPRegressor\n",
    "from sklearn.neighbors import KNeighborsRegressor\n",
    "from sklearn.model_selection import train_test_split\n",
    "from sklearn.metrics import mean_squared_log_error\n",
    "from sklearn.multioutput import MultiOutputRegressor\n",
    "from sklearn.linear_model import LinearRegression\n",
    "from sklearn.ensemble import RandomForestRegressor\n",
    "from sklearn.externals import joblib\n",
    "import re\n",
    "import csv\n",
    "import datetime"
   ]
  },
  {
   "cell_type": "code",
   "execution_count": 3,
   "metadata": {},
   "outputs": [],
   "source": [
    "def readInCSV(trainFile,testFile):\n",
    "    train = pd.read_csv(trainFile)\n",
    "    col_names_tr = list(train.columns)\n",
    "    row_tr, columns_tr = train.shape\n",
    "    \n",
    "    test = pd.read_csv(testFile)\n",
    "    col_names_test = list(test.columns)\n",
    "    row_test, columns_test = test.shape\n",
    " \n",
    "    #split data into \"labels\" and predictors (The actual trainging set was split 70-30 since the testing set has no outcomes)\n",
    "    X_tr = [] #predictors training\n",
    "    y_tr = [] #predictions training\n",
    "    X_test = [] #features testing\n",
    "    y_test = [] #predicitions testing\n",
    "    \n",
    "    for index, row in train.iterrows():\n",
    "        y_tr.append(list(row.ix[1:13]))\n",
    "        X_tr.append(list(row.ix[13:]))\n",
    "        \n",
    "    for index, row in test.iterrows():\n",
    "        y_test.append(list(row.ix[1:13]))\n",
    "        X_test.append(list(row.ix[13:]))\n",
    "        \n",
    "    return X_tr,y_tr,X_test,y_test"
   ]
  },
  {
   "cell_type": "code",
   "execution_count": 17,
   "metadata": {},
   "outputs": [
    {
     "name": "stderr",
     "output_type": "stream",
     "text": [
      "/usr/local/lib/python3.7/site-packages/ipykernel_launcher.py:17: FutureWarning: \n",
      ".ix is deprecated. Please use\n",
      ".loc for label based indexing or\n",
      ".iloc for positional indexing\n",
      "\n",
      "See the documentation here:\n",
      "http://pandas.pydata.org/pandas-docs/stable/user_guide/indexing.html#ix-indexer-is-deprecated\n",
      "/usr/local/lib/python3.7/site-packages/ipykernel_launcher.py:18: FutureWarning: \n",
      ".ix is deprecated. Please use\n",
      ".loc for label based indexing or\n",
      ".iloc for positional indexing\n",
      "\n",
      "See the documentation here:\n",
      "http://pandas.pydata.org/pandas-docs/stable/user_guide/indexing.html#ix-indexer-is-deprecated\n",
      "/usr/local/lib/python3.7/site-packages/ipykernel_launcher.py:21: FutureWarning: \n",
      ".ix is deprecated. Please use\n",
      ".loc for label based indexing or\n",
      ".iloc for positional indexing\n",
      "\n",
      "See the documentation here:\n",
      "http://pandas.pydata.org/pandas-docs/stable/user_guide/indexing.html#ix-indexer-is-deprecated\n",
      "/usr/local/lib/python3.7/site-packages/ipykernel_launcher.py:22: FutureWarning: \n",
      ".ix is deprecated. Please use\n",
      ".loc for label based indexing or\n",
      ".iloc for positional indexing\n",
      "\n",
      "See the documentation here:\n",
      "http://pandas.pydata.org/pandas-docs/stable/user_guide/indexing.html#ix-indexer-is-deprecated\n"
     ]
    }
   ],
   "source": [
    "X_tr_pca,y_tr_pca,X_test_pca,y_test_pca = readInCSV(\"../data/NAN_to_0/PCA_split_data_train.csv\",\"../data/NAN_to_0/PCA_split_data_test.csv\")\n",
    "X_tr_orig,y_tr_orig,X_test_orig,y_test_orig = readInCSV(\"../data/NAN_to_0/ORIGINAL_split_data_train.csv\",\"../data/NAN_to_0/ORIGINAL_split_data_test.csv\")\n"
   ]
  },
  {
   "cell_type": "markdown",
   "metadata": {},
   "source": [
    "## Decision Tree (PCA Data)\n"
   ]
  },
  {
   "cell_type": "code",
   "execution_count": 6,
   "metadata": {},
   "outputs": [
    {
     "name": "stdout",
     "output_type": "stream",
     "text": [
      "[1.88124979 1.85973342 1.75981817 1.62463089 2.30205666 2.82440022\n",
      " 2.98257311 3.00946801 3.29549524 3.40252322 3.47189648 3.6014681 ]\n",
      "2.7602162787727558\n"
     ]
    }
   ],
   "source": [
    "regressor = DecisionTreeRegressor(random_state=0)\n",
    "regressor.fit(X_tr_pca,y_tr_pca)\n",
    "y_pred = regressor.predict(X_test_pca)\n",
    "print(np.sqrt(mean_squared_log_error(y_test_pca, y_pred,multioutput='raw_values')))\n",
    "print(np.sqrt(mean_squared_log_error(y_test_pca, y_pred)))"
   ]
  },
  {
   "cell_type": "markdown",
   "metadata": {},
   "source": [
    "## Decision Tree (Original Data)"
   ]
  },
  {
   "cell_type": "code",
   "execution_count": 7,
   "metadata": {},
   "outputs": [
    {
     "name": "stdout",
     "output_type": "stream",
     "text": [
      "[0.97686335 1.309102   1.27844795 1.19780517 1.72842948 1.6008617\n",
      " 1.51430795 1.57359452 1.67207917 2.02395116 2.16355089 2.32213112]\n",
      "1.6588701932435483\n"
     ]
    }
   ],
   "source": [
    "regressor = DecisionTreeRegressor(random_state=0)\n",
    "regressor.fit(X_tr_orig,y_tr_orig)\n",
    "y_pred = regressor.predict(X_test_orig)\n",
    "print(np.sqrt(mean_squared_log_error(y_test_orig, y_pred,multioutput='raw_values')))\n",
    "print(np.sqrt(mean_squared_log_error(y_test_orig, y_pred)))"
   ]
  },
  {
   "cell_type": "markdown",
   "metadata": {},
   "source": [
    "------------------------"
   ]
  },
  {
   "cell_type": "markdown",
   "metadata": {},
   "source": [
    "## Random Forest (PCA Data)"
   ]
  },
  {
   "cell_type": "code",
   "execution_count": 8,
   "metadata": {},
   "outputs": [
    {
     "name": "stdout",
     "output_type": "stream",
     "text": [
      "[1.58148569 1.68412589 1.5351987  1.43564457 1.74710074 1.96884323\n",
      " 2.07025245 2.20303742 2.3352524  2.63922237 2.70155399 2.76537859]\n",
      "2.1053092064943013\n"
     ]
    }
   ],
   "source": [
    "RFregr = RandomForestRegressor(max_depth=10, random_state=0,n_estimators=1000)\n",
    "RFregr.fit(X_tr_pca,y_tr_pca)\n",
    "y_pred = RFregr.predict(X_test_pca)\n",
    "print(np.sqrt(mean_squared_log_error(y_test_pca, y_pred,multioutput='raw_values')))\n",
    "print(np.sqrt(mean_squared_log_error(y_test_pca, y_pred)))"
   ]
  },
  {
   "cell_type": "markdown",
   "metadata": {},
   "source": [
    "## Random Forest (Original Data)"
   ]
  },
  {
   "cell_type": "code",
   "execution_count": 9,
   "metadata": {},
   "outputs": [
    {
     "name": "stdout",
     "output_type": "stream",
     "text": [
      "[0.80089902 1.11179098 1.13401356 1.07968089 1.4540805  1.80041908\n",
      " 1.95577837 2.11641953 2.25826646 2.59543715 2.65212392 2.75718253]\n",
      "1.9248647957603784\n"
     ]
    }
   ],
   "source": [
    "RFregr = RandomForestRegressor(max_depth=10, random_state=0,n_estimators=1000)\n",
    "RFregr.fit(X_tr_orig,y_tr_orig)\n",
    "y_pred = RFregr.predict(X_test_orig)\n",
    "print(np.sqrt(mean_squared_log_error(y_test_orig, y_pred,multioutput='raw_values')))\n",
    "print(np.sqrt(mean_squared_log_error(y_test_orig, y_pred)))"
   ]
  },
  {
   "cell_type": "markdown",
   "metadata": {},
   "source": [
    "-----------"
   ]
  },
  {
   "cell_type": "markdown",
   "metadata": {},
   "source": [
    "## SVM/SVR (PCA Data)"
   ]
  },
  {
   "cell_type": "code",
   "execution_count": 11,
   "metadata": {},
   "outputs": [
    {
     "name": "stdout",
     "output_type": "stream",
     "text": [
      "[1.34902169 1.41216253 1.37616898 1.31884526 1.70750222 1.95788325\n",
      " 2.05074088 2.10753728 2.23462177 2.5031306  2.59302153 2.65897147]\n",
      "1.9978418734749357\n"
     ]
    }
   ],
   "source": [
    "clf = SVR(kernel=\"rbf\",gamma='auto', C=1.0, epsilon=0.2)\n",
    "multi_clf = MultiOutputRegressor(clf)\n",
    "multi_clf.fit(X_tr_pca,y_tr_pca)\n",
    "y_pred = multi_clf.predict(X_test_pca)\n",
    "print(np.sqrt(mean_squared_log_error(y_test_pca, y_pred,multioutput='raw_values')))\n",
    "print(np.sqrt(mean_squared_log_error(y_test_pca, y_pred)))"
   ]
  },
  {
   "cell_type": "markdown",
   "metadata": {},
   "source": [
    "## SVM/SVR (Original Data)"
   ]
  },
  {
   "cell_type": "code",
   "execution_count": 12,
   "metadata": {},
   "outputs": [
    {
     "name": "stdout",
     "output_type": "stream",
     "text": [
      "[1.34867022 1.41179375 1.37569704 1.31842204 1.70722529 1.95564185\n",
      " 2.0489972  2.10662973 2.23392466 2.50246743 2.59231772 2.65835547]\n",
      "1.9970397083951417\n"
     ]
    }
   ],
   "source": [
    "clf = SVR(kernel=\"rbf\",gamma='auto', C=1.0, epsilon=0.2)\n",
    "multi_clf = MultiOutputRegressor(clf)\n",
    "multi_clf.fit(X_tr_orig,y_tr_orig)\n",
    "y_pred = multi_clf.predict(X_test_orig)\n",
    "print(np.sqrt(mean_squared_log_error(y_test_orig, y_pred,multioutput='raw_values')))\n",
    "print(np.sqrt(mean_squared_log_error(y_test_orig, y_pred)))"
   ]
  },
  {
   "cell_type": "markdown",
   "metadata": {},
   "source": [
    "----------"
   ]
  },
  {
   "cell_type": "markdown",
   "metadata": {},
   "source": [
    "## MLP(NN) (PCA Data) -- Note: np.abs() needs to be used on prediction because it guesses negative values sometimes... oh well"
   ]
  },
  {
   "cell_type": "code",
   "execution_count": 13,
   "metadata": {},
   "outputs": [
    {
     "name": "stdout",
     "output_type": "stream",
     "text": [
      "[2.51696171 2.49133313 2.33613791 2.18833471 2.4951105  2.72695011\n",
      " 2.57913082 2.69008867 2.79087368 2.90215937 2.93512816 2.9726397 ]\n",
      "2.645776214369862\n"
     ]
    }
   ],
   "source": [
    "bpnn = MLPRegressor(max_iter = 50000) #Very basic BPNN/MLP\n",
    "bpnn.fit(X_tr_pca,y_tr_pca)\n",
    "y_pred = bpnn.predict(X_test_pca)\n",
    "print(np.sqrt(mean_squared_log_error(y_test_pca, np.abs(y_pred),multioutput='raw_values'))) #It's weird that it predicts negative vals.. oh well\n",
    "print(np.sqrt(mean_squared_log_error(y_test_pca, np.abs(y_pred))))"
   ]
  },
  {
   "cell_type": "markdown",
   "metadata": {},
   "source": [
    "## MLP(NN) (Original Data) -- Note: np.abs() needs to be used on prediction because it guesses negative values sometimes... oh well"
   ]
  },
  {
   "cell_type": "code",
   "execution_count": 14,
   "metadata": {},
   "outputs": [
    {
     "name": "stdout",
     "output_type": "stream",
     "text": [
      "[1.93821749 1.99352288 1.84463565 1.69125972 2.15414648 2.46334285\n",
      " 2.28586197 2.39381343 2.56685386 2.80352242 2.72980473 3.02815308]\n",
      "2.358102962169239\n"
     ]
    }
   ],
   "source": [
    "bpnn = MLPRegressor(max_iter = 50000) #Very basic BPNN/MLP\n",
    "bpnn.fit(X_tr_orig,y_tr_orig)\n",
    "y_pred = bpnn.predict(X_test_orig)\n",
    "print(np.sqrt(mean_squared_log_error(y_test_orig, np.abs(y_pred),multioutput='raw_values'))) #It's weird that it predicts negative vals.. oh well\n",
    "print(np.sqrt(mean_squared_log_error(y_test_orig, np.abs(y_pred))))"
   ]
  },
  {
   "cell_type": "markdown",
   "metadata": {},
   "source": [
    "-------"
   ]
  },
  {
   "cell_type": "markdown",
   "metadata": {},
   "source": [
    "## kNN (PCA Data)\n"
   ]
  },
  {
   "cell_type": "code",
   "execution_count": 15,
   "metadata": {},
   "outputs": [
    {
     "name": "stdout",
     "output_type": "stream",
     "text": [
      "[1.37359479 1.52616017 1.52944453 1.44291999 1.73108605 2.02886042\n",
      " 2.04111615 2.23787946 2.30771045 2.65521729 2.65426601 2.69909518]\n",
      "2.07425264644338\n"
     ]
    }
   ],
   "source": [
    "neigh = KNeighborsRegressor(n_neighbors=5)\n",
    "neigh.fit(X_tr_pca,y_tr_pca)\n",
    "y_pred = neigh.predict(X_test_pca)\n",
    "print(np.sqrt(mean_squared_log_error(y_test_pca, y_pred,multioutput='raw_values')))\n",
    "print(np.sqrt(mean_squared_log_error(y_test_pca, y_pred)))"
   ]
  },
  {
   "cell_type": "markdown",
   "metadata": {},
   "source": [
    "## kNN (Original Data)"
   ]
  },
  {
   "cell_type": "code",
   "execution_count": 16,
   "metadata": {},
   "outputs": [
    {
     "name": "stdout",
     "output_type": "stream",
     "text": [
      "[1.15601296 1.35008633 1.32809977 1.20840453 1.574566   1.89729981\n",
      " 2.00857386 2.15033911 2.28736233 2.63296066 2.69018617 2.78348657]\n",
      "2.0056156339976496\n"
     ]
    }
   ],
   "source": [
    "neigh = KNeighborsRegressor(n_neighbors=5)\n",
    "neigh.fit(X_tr_orig,y_tr_orig)\n",
    "y_pred = neigh.predict(X_test_orig)\n",
    "print(np.sqrt(mean_squared_log_error(y_test_orig, y_pred,multioutput='raw_values')))\n",
    "print(np.sqrt(mean_squared_log_error(y_test_orig, y_pred)))"
   ]
  },
  {
   "cell_type": "markdown",
   "metadata": {},
   "source": [
    "--------"
   ]
  }
 ],
 "metadata": {
  "kernelspec": {
   "display_name": "Python 3",
   "language": "python",
   "name": "python3"
  },
  "language_info": {
   "codemirror_mode": {
    "name": "ipython",
    "version": 3
   },
   "file_extension": ".py",
   "mimetype": "text/x-python",
   "name": "python",
   "nbconvert_exporter": "python",
   "pygments_lexer": "ipython3",
   "version": "3.7.4"
  }
 },
 "nbformat": 4,
 "nbformat_minor": 2
}
